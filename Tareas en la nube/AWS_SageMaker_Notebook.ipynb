{
 "cells": [
  {
   "cell_type": "code",
   "execution_count": null,
   "id": "fa357b68",
   "metadata": {},
   "outputs": [],
   "source": [
    "\n",
    "import boto3\n",
    "import pandas as pd\n",
    "import numpy as np\n",
    "from sklearn.cluster import KMeans\n",
    "from sklearn.preprocessing import StandardScaler\n",
    "from sklearn.model_selection import train_test_split\n",
    "from sklearn.metrics import classification_report, confusion_matrix\n",
    "# Importar librerías adicionales según sea necesario\n",
    "    "
   ]
  },
  {
   "cell_type": "code",
   "execution_count": null,
   "id": "a5d41a99",
   "metadata": {},
   "outputs": [],
   "source": [
    "\n",
    "s3 = boto3.client('s3')\n",
    "bucket_name = 'aws-bucket-lab1'\n",
    "file_name = 'covid19.parquet'\n",
    "\n",
    "obj = s3.get_object(Bucket=bucket_name, Key=file_name)\n",
    "df = pd.read_parquet(obj['Body'])\n",
    "    "
   ]
  },
  {
   "cell_type": "code",
   "execution_count": null,
   "id": "6aff6fc2",
   "metadata": {},
   "outputs": [],
   "source": [
    "\n",
    "# Exploración de datos básica\n",
    "df.head()\n",
    "df.describe()\n",
    "\n",
    "# Limpieza y normalización de datos\n",
    "# df = limpiar_datos(df)  # Definir la función limpiar_datos según sea necesario\n",
    "\n",
    "# Preprocesamiento\n",
    "scaler = StandardScaler()\n",
    "df_scaled = scaler.fit_transform(df)\n",
    "    "
   ]
  },
  {
   "cell_type": "code",
   "execution_count": null,
   "id": "c8a26740",
   "metadata": {},
   "outputs": [],
   "source": [
    "\n",
    "kmeans = KMeans(n_clusters=3)  # Ajustar el número de clusters\n",
    "df['cluster'] = kmeans.fit_predict(df_scaled)\n",
    "    "
   ]
  },
  {
   "cell_type": "code",
   "execution_count": null,
   "id": "5d2862ad",
   "metadata": {},
   "outputs": [],
   "source": [
    "\n",
    "# Modificar dataset según las etiquetas\n",
    "# Preparar dataset para modelado predictivo\n",
    "    "
   ]
  },
  {
   "cell_type": "code",
   "execution_count": null,
   "id": "1c9072a1",
   "metadata": {},
   "outputs": [],
   "source": [
    "\n",
    "# Convertir DataFrame a Parquet\n",
    "df.to_parquet('covid19_etiquetado.parquet')\n",
    "\n",
    "# Subir a S3\n",
    "s3.upload_file('covid19_etiquetado.parquet', bucket_name, 'covid19_etiquetado.parquet')\n",
    "    "
   ]
  },
  {
   "cell_type": "code",
   "execution_count": null,
   "id": "7042aafb",
   "metadata": {},
   "outputs": [],
   "source": [
    "\n",
    "# Dividir datos en entrenamiento y prueba\n",
    "X_train, X_test, y_train, y_test = train_test_split(df, target, test_size=0.3)\n",
    "\n",
    "# Entrenamiento de un modelo (ajustar según el tipo de modelo elegido)\n",
    "model = ModeloElegido()\n",
    "model.fit(X_train, y_train)\n",
    "\n",
    "# Evaluación del modelo\n",
    "predicciones = model.predict(X_test)\n",
    "print(confusion_matrix(y_test, predicciones))\n",
    "print(classification_report(y_test, predicciones))\n",
    "    "
   ]
  },
  {
   "cell_type": "code",
   "execution_count": null,
   "id": "181b5e48",
   "metadata": {},
   "outputs": [],
   "source": [
    "\n",
    "# Calcular y mostrar métricas de rendimiento\n",
    "    "
   ]
  }
 ],
 "metadata": {},
 "nbformat": 4,
 "nbformat_minor": 5
}
